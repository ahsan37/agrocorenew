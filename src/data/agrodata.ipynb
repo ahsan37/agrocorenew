{
 "cells": [
  {
   "cell_type": "code",
   "execution_count": 2,
   "metadata": {},
   "outputs": [],
   "source": [
    "# imports\n",
    "import pandas as pd "
   ]
  },
  {
   "cell_type": "code",
   "execution_count": 3,
   "metadata": {},
   "outputs": [
    {
     "name": "stdout",
     "output_type": "stream",
     "text": [
      "           dt  AverageTemperature  AverageTemperatureUncertainty   City  \\\n",
      "0  1743-11-01               6.068                          1.737  Århus   \n",
      "1  1743-12-01                 NaN                            NaN  Århus   \n",
      "2  1744-01-01                 NaN                            NaN  Århus   \n",
      "3  1744-02-01                 NaN                            NaN  Århus   \n",
      "4  1744-03-01                 NaN                            NaN  Århus   \n",
      "\n",
      "   Country Latitude Longitude  yearintcolumn  \n",
      "0  Denmark   57.05N    10.33E           1743  \n",
      "1  Denmark   57.05N    10.33E           1743  \n",
      "2  Denmark   57.05N    10.33E           1744  \n",
      "3  Denmark   57.05N    10.33E           1744  \n",
      "4  Denmark   57.05N    10.33E           1744  \n"
     ]
    }
   ],
   "source": [
    "# Climate Data Set\n",
    "\n",
    "# read Climate data set - Source: https://www.kaggle.com/datasets/berkeleyearth/climate-change-earth-surface-temperature-data?resource=download\n",
    "climate = pd.read_csv(\"GlobalLandTemperaturesByCity.csv\")\n",
    "\n",
    "# Creates new column with YYYY type int -> we can create new csv with year specific data and desired ranges\n",
    "\n",
    "yearfunction = lambda row: (int(row['dt'][0:4])) \n",
    "climate['yearintcolumn'] = climate.apply(yearfunction, axis = 1) \n",
    "print(climate.head())\n"
   ]
  },
  {
   "cell_type": "code",
   "execution_count": 15,
   "metadata": {},
   "outputs": [
    {
     "name": "stdout",
     "output_type": "stream",
     "text": [
      "2013\n",
      "                dt  AverageTemperature  AverageTemperatureUncertainty  \\\n",
      "49859   2012-01-01               7.996                          0.204   \n",
      "49871   2013-01-01               6.320                          0.267   \n",
      "140284  2012-01-01              -0.344                          0.410   \n",
      "140296  2013-01-01              -1.086                          0.220   \n",
      "170379  2012-01-01               1.840                          0.484   \n",
      "\n",
      "               City        Country Latitude Longitude  yearintcolumn  \n",
      "49859       Abilene  United States   32.95N   100.53W           2012  \n",
      "49871       Abilene  United States   32.95N   100.53W           2013  \n",
      "140284        Akron  United States   40.99N    80.95W           2012  \n",
      "140296        Akron  United States   40.99N    80.95W           2013  \n",
      "170379  Albuquerque  United States   34.56N   107.03W           2012  \n"
     ]
    }
   ],
   "source": [
    "# Manipulate Climate set\n",
    "print(climate.yearintcolumn.max())\n",
    "# Creating 'lasttwoyears_climate' dataset with only last two years, 2012-2013, only 1 row per year, and only USA. \n",
    "lasttwoyears_usa_climate = climate[(climate.yearintcolumn >= 2012) & (climate.Country == 'United States') & (climate['dt'].str[5:7] == '01')]\n",
    "print(lasttwoyears_usa_climate.head())"
   ]
  },
  {
   "cell_type": "code",
   "execution_count": 16,
   "metadata": {},
   "outputs": [],
   "source": [
    "# Saving Climate Data Set\n",
    "lasttwoyears_usa_climate.to_csv('2012-2013_usa_temperature.csv')"
   ]
  },
  {
   "cell_type": "code",
   "execution_count": null,
   "metadata": {},
   "outputs": [],
   "source": [
    "# Ecology Data Set\n"
   ]
  }
 ],
 "metadata": {
  "kernelspec": {
   "display_name": "Python 3",
   "language": "python",
   "name": "python3"
  },
  "language_info": {
   "codemirror_mode": {
    "name": "ipython",
    "version": 3
   },
   "file_extension": ".py",
   "mimetype": "text/x-python",
   "name": "python",
   "nbconvert_exporter": "python",
   "pygments_lexer": "ipython3",
   "version": "3.11.5"
  },
  "orig_nbformat": 4
 },
 "nbformat": 4,
 "nbformat_minor": 2
}
